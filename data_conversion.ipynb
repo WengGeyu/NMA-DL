{
  "nbformat": 4,
  "nbformat_minor": 0,
  "metadata": {
    "colab": {
      "provenance": [],
      "authorship_tag": "ABX9TyOkb4ZY3r9qD/IyQl+p5lUr",
      "include_colab_link": true
    },
    "kernelspec": {
      "name": "python3",
      "display_name": "Python 3"
    },
    "language_info": {
      "name": "python"
    }
  },
  "cells": [
    {
      "cell_type": "markdown",
      "metadata": {
        "id": "view-in-github",
        "colab_type": "text"
      },
      "source": [
        "<a href=\"https://colab.research.google.com/github/WengGeyu/NMA-DL/blob/main/data_conversion.ipynb\" target=\"_parent\"><img src=\"https://colab.research.google.com/assets/colab-badge.svg\" alt=\"Open In Colab\"/></a>"
      ]
    },
    {
      "cell_type": "code",
      "source": [
        "from google.colab import drive\n",
        "drive.mount('/content/drive')"
      ],
      "metadata": {
        "id": "S4lSDtdNXfNv",
        "outputId": "73e2f961-60fa-491b-af58-bc4940bc21f3",
        "colab": {
          "base_uri": "https://localhost:8080/"
        }
      },
      "execution_count": 1,
      "outputs": [
        {
          "output_type": "stream",
          "name": "stdout",
          "text": [
            "Mounted at /content/drive\n"
          ]
        }
      ]
    },
    {
      "cell_type": "code",
      "execution_count": null,
      "metadata": {
        "id": "zD7Y-xg9whWW"
      },
      "outputs": [],
      "source": [
        "import os\n",
        "os.chdir('/content/drive/MyDrive/ColabNotebooks')\n",
        "!git clone https://github.com/MIC-DKFZ/nnUNet.git\n",
        "%cd nnUNet\n",
        "!pip install -e ."
      ]
    },
    {
      "cell_type": "code",
      "source": [
        "from batchgenerators.utilities.file_and_folder_operations import *\n",
        "import shutil\n",
        "from nnunetv2.dataset_conversion.generate_dataset_json import generate_dataset_json\n",
        "from nnunetv2.paths import nnUNet_raw\n",
        "\n",
        "\n",
        "def convert_aneurysm(kits_base_dir: str, nnunet_dataset_id: int = 220):\n",
        "    task_name = \"aneurysm\"\n",
        "\n",
        "    foldername = \"Dataset%03.0d_%s\" % (nnunet_dataset_id, task_name)\n",
        "\n",
        "    # setting up nnU-Net folders\n",
        "    out_base = join('/content/drive/MyDrive/ColabNotebooks/nnUNet/nnunetv2/nnUNet_raw', foldername)\n",
        "    imagestr = join(out_base, \"imagesTr\")\n",
        "    labelstr = join(out_base, \"labelsTr\")\n",
        "    maybe_mkdir_p(imagestr)\n",
        "    maybe_mkdir_p(labelstr)\n",
        "\n",
        "    cases = subdirs(kits_base_dir, prefix='sub_', join=False)\n",
        "    for tr in cases:\n",
        "        shutil.copy(join(kits_base_dir, tr, 'angio.nii.gz'), join(imagestr, f'{tr}_0000.nii.gz'))\n",
        "        shutil.copy(join(kits_base_dir, tr, 'Lesion_1_mask.nii.gz'), join(labelstr, f'{tr}.nii.gz'))\n",
        "\n",
        "    generate_dataset_json(out_base, {0: \"TOF\"},\n",
        "                          labels={\n",
        "                              \"background\": 0,\n",
        "                              \"aneurysm\": 1\n",
        "                          },\n",
        "                          num_training_cases=len(cases), file_ending='.nii.gz')\n",
        "\n",
        "convert_aneurysm('/content/drive/MyDrive/ColabNotebooks/data', 666)"
      ],
      "metadata": {
        "id": "tDC9mlrCd2jK"
      },
      "execution_count": 30,
      "outputs": []
    },
    {
      "cell_type": "code",
      "source": [
        "!set nnUNet_raw=\"/content/drive/MyDrive/ColabNotebooks/nnUNet/nnUNet_raw\"\n",
        "!set nnUNet_preprocessed=\"/content/drive/MyDrive/ColabNotebooks/nnUNet/nnUNet_preprocessed\"\n",
        "!set nnUNet_results=\"/content/drive/MyDrive/ColabNotebooks/nnUNet/nnUNet_results\"\n",
        "!nnUNetv2_plan_and_preprocess -d 'Dataset666_aneurysm' --verify_dataset_integrity"
      ],
      "metadata": {
        "id": "p_YWLuHWXk1c",
        "colab": {
          "base_uri": "https://localhost:8080/"
        },
        "outputId": "edf3b537-f9c2-4130-db4c-de6a1716d3fd"
      },
      "execution_count": 28,
      "outputs": [
        {
          "output_type": "stream",
          "name": "stdout",
          "text": [
            "nnUNet_raw is not defined and nnU-Net can only be used on data for which preprocessed files are already present on your system. nnU-Net cannot be used for experiment planning and preprocessing like this. If this is not intended, please read documentation/setting_up_paths.md for information on how to set this up properly.\n",
            "nnUNet_preprocessed is not defined and nnU-Net can not be used for preprocessing or training. If this is not intended, please read documentation/setting_up_paths.md for information on how to set this up.\n",
            "nnUNet_results is not defined and nnU-Net cannot be used for training or inference. If this is not intended behavior, please read documentation/setting_up_paths.md for information on how to set this up.\n",
            "usage: nnUNetv2_plan_and_preprocess\n",
            "       [-h]\n",
            "       [-d D [D ...]]\n",
            "       [-fpe FPE]\n",
            "       [-npfp NPFP]\n",
            "       [--verify_dataset_integrity]\n",
            "       [--no_pp]\n",
            "       [--clean]\n",
            "       [-pl PL]\n",
            "       [-gpu_memory_target GPU_MEMORY_TARGET]\n",
            "       [-preprocessor_name PREPROCESSOR_NAME]\n",
            "       [-overwrite_target_spacing OVERWRITE_TARGET_SPACING [OVERWRITE_TARGET_SPACING ...]]\n",
            "       [-overwrite_plans_name OVERWRITE_PLANS_NAME]\n",
            "       [-c C [C ...]]\n",
            "       [-np NP [NP ...]]\n",
            "       [--verbose]\n",
            "nnUNetv2_plan_and_preprocess: error: argument -d: invalid int value: '/content/drive/MyDrive/ColabNotebooks/nnUNet/nnUNet_raw/Dataset666_aneurysm'\n"
          ]
        }
      ]
    },
    {
      "cell_type": "code",
      "source": [
        "!nnUNetv2_train 'Dataset666_aneurysm' UNET_CONFIGURATION FOLD [additional options, see -h]"
      ],
      "metadata": {
        "id": "vt7Kc3_QqBxx"
      },
      "execution_count": null,
      "outputs": []
    }
  ]
}