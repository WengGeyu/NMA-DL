{
  "nbformat": 4,
  "nbformat_minor": 0,
  "metadata": {
    "colab": {
      "provenance": [],
      "gpuType": "T4",
      "authorship_tag": "ABX9TyPL0fXREzd+wClTLsZSLCuN",
      "include_colab_link": true
    },
    "kernelspec": {
      "name": "python3",
      "display_name": "Python 3"
    },
    "language_info": {
      "name": "python"
    },
    "accelerator": "GPU"
  },
  "cells": [
    {
      "cell_type": "markdown",
      "metadata": {
        "id": "view-in-github",
        "colab_type": "text"
      },
      "source": [
        "<a href=\"https://colab.research.google.com/github/WengGeyu/NMA-DL/blob/main/data_to_nnUNet.ipynb\" target=\"_parent\"><img src=\"https://colab.research.google.com/assets/colab-badge.svg\" alt=\"Open In Colab\"/></a>"
      ]
    },
    {
      "cell_type": "code",
      "source": [
        "from google.colab import drive\n",
        "drive.mount('/content/drive')"
      ],
      "metadata": {
        "id": "S4lSDtdNXfNv",
        "outputId": "e8a6dc07-c7a4-44fe-8be3-eec724053440",
        "colab": {
          "base_uri": "https://localhost:8080/"
        }
      },
      "execution_count": 1,
      "outputs": [
        {
          "output_type": "stream",
          "name": "stdout",
          "text": [
            "Mounted at /content/drive\n"
          ]
        }
      ]
    },
    {
      "cell_type": "code",
      "execution_count": null,
      "metadata": {
        "id": "zD7Y-xg9whWW"
      },
      "outputs": [],
      "source": [
        "import os\n",
        "os.chdir('/content/drive/MyDrive/ColabNotebooks')\n",
        "#!git clone https://github.com/MIC-DKFZ/nnUNet.git\n",
        "%cd nnUNet\n",
        "!pip install -e .\n",
        "!pip install --upgrade git+https://github.com/FabianIsensee/hiddenlayer.git"
      ]
    },
    {
      "cell_type": "code",
      "source": [
        "from batchgenerators.utilities.file_and_folder_operations import *\n",
        "import shutil\n",
        "from nnunetv2.dataset_conversion.generate_dataset_json import generate_dataset_json\n",
        "from nnunetv2.paths import nnUNet_raw\n",
        "\n",
        "def convert_aneurysm(kits_base_dir: str, nnunet_dataset_id: int = 666):\n",
        "    task_name = \"aneurysm\"\n",
        "\n",
        "    foldername = \"Dataset%03.0d_%s\" % (nnunet_dataset_id, task_name)\n",
        "\n",
        "    # setting up nnU-Net folders\n",
        "    out_base = join('/content/drive/MyDrive/ColabNotebooks/nnUNet/nnUNet_raw', foldername)\n",
        "    imagestr = join(out_base, \"imagesTr\")\n",
        "    labelstr = join(out_base, \"labelsTr\")\n",
        "    maybe_mkdir_p(imagestr)\n",
        "    maybe_mkdir_p(labelstr)\n",
        "\n",
        "    cases = subdirs(kits_base_dir, prefix='sub_', join=False)\n",
        "    for tr in cases:\n",
        "        shutil.copy(join(kits_base_dir, tr, 'angio.nii.gz'), join(imagestr, f'{tr}_0000.nii.gz'))\n",
        "        shutil.copy(join(kits_base_dir, tr, 'Lesion_1_mask.nii.gz'), join(labelstr, f'{tr}.nii.gz'))\n",
        "\n",
        "    generate_dataset_json(out_base, {0: \"TOF\"},\n",
        "                          labels={\n",
        "                              \"background\": 0,\n",
        "                              \"aneurysm\": 1\n",
        "                          },\n",
        "                          num_training_cases=len(cases), file_ending='.nii.gz')\n",
        "\n",
        "convert_aneurysm('/content/drive/MyDrive/ColabNotebooks/data', 666)"
      ],
      "metadata": {
        "id": "tDC9mlrCd2jK"
      },
      "execution_count": null,
      "outputs": []
    },
    {
      "cell_type": "code",
      "source": [
        "! nnUNet_raw=\"/content/drive/MyDrive/ColabNotebooks/nnUNet/nnUNet_raw\" \\\n",
        "nnUNet_preprocessed=\"/content/drive/MyDrive/ColabNotebooks/nnUNet/nnUNet_preprocessed\" \\\n",
        "nnUNet_results=\"/content/drive/MyDrive/ColabNotebooks/nnUNet/nnUNet_results\" \\\n",
        "nnUNetv2_plan_and_preprocess -d 666 --verify_dataset_integrity"
      ],
      "metadata": {
        "id": "p_YWLuHWXk1c"
      },
      "execution_count": null,
      "outputs": []
    },
    {
      "cell_type": "markdown",
      "source": [
        "Training"
      ],
      "metadata": {
        "id": "74QNMCflwJS6"
      }
    },
    {
      "cell_type": "code",
      "source": [
        "! nnUNet_raw=\"/content/drive/MyDrive/ColabNotebooks/nnUNet/nnUNet_raw\" \\\n",
        "nnUNet_preprocessed=\"/content/drive/MyDrive/ColabNotebooks/nnUNet/nnUNet_preprocessed\" \\\n",
        "nnUNet_results=\"/content/drive/MyDrive/ColabNotebooks/nnUNet/nnUNet_results\" \\\n",
        "nnUNetv2_train 666 3d_lowres 0 -tr nnUNetTrainer_10epochs --c"
      ],
      "metadata": {
        "id": "vt7Kc3_QqBxx",
        "colab": {
          "base_uri": "https://localhost:8080/"
        },
        "outputId": "5a17fb37-154a-40fe-9158-56915296087a"
      },
      "execution_count": null,
      "outputs": [
        {
          "output_type": "stream",
          "name": "stdout",
          "text": [
            "Using device: cuda:0\n",
            "\n",
            "#######################################################################\n",
            "Please cite the following paper when using nnU-Net:\n",
            "Isensee, F., Jaeger, P. F., Kohl, S. A., Petersen, J., & Maier-Hein, K. H. (2021). nnU-Net: a self-configuring method for deep learning-based biomedical image segmentation. Nature methods, 18(2), 203-211.\n",
            "#######################################################################\n",
            "\n",
            "WARNING: Cannot continue training because there seems to be no checkpoint available to continue from. Starting a new training...\n",
            "\n",
            "This is the configuration used by this training:\n",
            "Configuration name: 3d_lowres\n",
            " {'data_identifier': 'nnUNetPlans_3d_lowres', 'preprocessor_name': 'DefaultPreprocessor', 'batch_size': 2, 'patch_size': [56, 224, 192], 'median_image_size_in_voxels': [93, 335, 294], 'spacing': [0.8319214816658427, 0.6203981293351043, 0.6203981293351043], 'normalization_schemes': ['ZScoreNormalization'], 'use_mask_for_norm': [False], 'UNet_class_name': 'PlainConvUNet', 'UNet_base_num_features': 32, 'n_conv_per_stage_encoder': [2, 2, 2, 2, 2, 2], 'n_conv_per_stage_decoder': [2, 2, 2, 2, 2], 'num_pool_per_axis': [3, 5, 5], 'pool_op_kernel_sizes': [[1, 1, 1], [2, 2, 2], [2, 2, 2], [2, 2, 2], [1, 2, 2], [1, 2, 2]], 'conv_kernel_sizes': [[3, 3, 3], [3, 3, 3], [3, 3, 3], [3, 3, 3], [3, 3, 3], [3, 3, 3]], 'unet_max_num_features': 320, 'resampling_fn_data': 'resample_data_or_seg_to_shape', 'resampling_fn_seg': 'resample_data_or_seg_to_shape', 'resampling_fn_data_kwargs': {'is_seg': False, 'order': 3, 'order_z': 0, 'force_separate_z': None}, 'resampling_fn_seg_kwargs': {'is_seg': True, 'order': 1, 'order_z': 0, 'force_separate_z': None}, 'resampling_fn_probabilities': 'resample_data_or_seg_to_shape', 'resampling_fn_probabilities_kwargs': {'is_seg': False, 'order': 1, 'order_z': 0, 'force_separate_z': None}, 'batch_dice': False, 'next_stage': '3d_cascade_fullres'} \n",
            "\n",
            "These are the global plan.json settings:\n",
            " {'dataset_name': 'Dataset666_aneurysm', 'plans_name': 'nnUNetPlans', 'original_median_spacing_after_transp': [0.5499981045722961, 0.41015625, 0.41015625], 'original_median_shape_after_transp': [140, 506, 444], 'image_reader_writer': 'SimpleITKIO', 'transpose_forward': [0, 1, 2], 'transpose_backward': [0, 1, 2], 'experiment_planner_used': 'ExperimentPlanner', 'label_manager': 'LabelManager', 'foreground_intensity_properties_per_channel': {'0': {'max': 1785.74658203125, 'mean': 601.4241943359375, 'median': 502.01708984375, 'min': 34.27594757080078, 'percentile_00_5': 78.83467864990234, 'percentile_99_5': 1771.4031982421875, 'std': 417.2281188964844}}} \n",
            "\n",
            "2023-07-24 16:30:52.661026: unpacking dataset...\n",
            "2023-07-24 16:30:52.944948: unpacking done...\n",
            "2023-07-24 16:30:52.947843: do_dummy_2d_data_aug: True\n",
            "2023-07-24 16:30:52.953181: Using splits from existing split file: /content/drive/MyDrive/ColabNotebooks/nnUNet/nnUNet_preprocessed/Dataset666_aneurysm/splits_final.json\n",
            "2023-07-24 16:30:52.956768: The split file contains 5 splits.\n",
            "2023-07-24 16:30:52.958844: Desired fold for training: 0\n",
            "2023-07-24 16:30:52.961521: This split has 4 training and 1 validation cases.\n",
            "/usr/local/lib/python3.10/dist-packages/torch/onnx/symbolic_helper.py:1466: UserWarning: ONNX export mode is set to TrainingMode.EVAL, but operator 'instance_norm' is set to train=True. Exporting with train=True.\n",
            "  warnings.warn(\n",
            "2023-07-24 16:31:14.729471: \n",
            "2023-07-24 16:31:14.732854: Epoch 0\n",
            "2023-07-24 16:31:14.735348: Current learning rate: 0.01\n",
            "using pin_memory on device 0\n"
          ]
        }
      ]
    },
    {
      "cell_type": "code",
      "source": [
        "! nnUNet_raw=\"/content/drive/MyDrive/ColabNotebooks/nnUNet/nnUNet_raw\" \\\n",
        "nnUNet_preprocessed=\"/content/drive/MyDrive/ColabNotebooks/nnUNet/nnUNet_preprocessed\" \\\n",
        "nnUNet_results=\"/content/drive/MyDrive/ColabNotebooks/nnUNet/nnUNet_results\" \\\n",
        "nnUNetv2_predict -i \"/content/drive/MyDrive/ColabNotebooks/nnUNet/nnUNet_raw/Dataset666_aneurysm/imagesTr\" -o \"/content/drive/MyDrive/ColabNotebooks/nnUNet/nnUNet_results/Dataset666_aneurysm/nnUNetTrainer__nnUNetPlans__2d/fold_0/predTs\" -d 666 -c 2d -device cuda -f 0\n",
        "# -chk checkpoint_best.pth"
      ],
      "metadata": {
        "colab": {
          "base_uri": "https://localhost:8080/"
        },
        "id": "lC3Wd3dlK4OJ",
        "outputId": "f130df4c-c3dd-48f8-9de5-1526c4fdc957"
      },
      "execution_count": 36,
      "outputs": [
        {
          "output_type": "stream",
          "name": "stdout",
          "text": [
            "\n",
            "#######################################################################\n",
            "Please cite the following paper when using nnU-Net:\n",
            "Isensee, F., Jaeger, P. F., Kohl, S. A., Petersen, J., & Maier-Hein, K. H. (2021). nnU-Net: a self-configuring method for deep learning-based biomedical image segmentation. Nature methods, 18(2), 203-211.\n",
            "#######################################################################\n",
            "\n",
            "There are 5 cases in the source folder\n",
            "I am process 0 out of 1 (max process ID is 0, we start counting with 0!)\n",
            "There are 5 cases that I would like to predict\n",
            "\n",
            "Predicting sub_013:\n",
            "perform_everything_on_gpu: True\n",
            "100% 144/144 [00:12<00:00, 11.70it/s]\n",
            "Prediction done, transferring to CPU if needed\n",
            "sending off prediction to background worker for resampling and export\n",
            "done with sub_013\n",
            "\n",
            "Predicting sub_022:\n",
            "perform_everything_on_gpu: True\n",
            "100% 280/280 [00:21<00:00, 13.05it/s]\n",
            "Prediction done, transferring to CPU if needed\n",
            "sending off prediction to background worker for resampling and export\n",
            "done with sub_022\n",
            "\n",
            "Predicting sub_026:\n",
            "perform_everything_on_gpu: True\n",
            "100% 140/140 [00:14<00:00,  9.38it/s]\n",
            "Prediction done, transferring to CPU if needed\n",
            "sending off prediction to background worker for resampling and export\n",
            "done with sub_026\n",
            "\n",
            "Predicting sub_034:\n",
            "perform_everything_on_gpu: True\n",
            "100% 160/160 [00:09<00:00, 16.32it/s]\n",
            "Prediction done, transferring to CPU if needed\n",
            "sending off prediction to background worker for resampling and export\n",
            "done with sub_034\n",
            "\n",
            "Predicting sub_043:\n",
            "perform_everything_on_gpu: True\n",
            "100% 280/280 [00:22<00:00, 12.52it/s]\n",
            "Prediction done, transferring to CPU if needed\n",
            "sending off prediction to background worker for resampling and export\n",
            "done with sub_043\n"
          ]
        }
      ]
    },
    {
      "cell_type": "code",
      "source": [
        "! nnUNet_raw=\"/content/drive/MyDrive/ColabNotebooks/nnUNet/nnUNet_raw\" \\\n",
        "nnUNet_preprocessed=\"/content/drive/MyDrive/ColabNotebooks/nnUNet/nnUNet_preprocessed\" \\\n",
        "nnUNet_results=\"/content/drive/MyDrive/ColabNotebooks/nnUNet/nnUNet_results\" \\\n",
        "nnUNetv2_apply_postprocessing -i \"/content/drive/MyDrive/ColabNotebooks/nnUNet/nnUNet_results/Dataset666_aneurysm/nnUNetTrainer__nnUNetPlans__2d/fold_0/predTs\" -o \"/content/drive/MyDrive/ColabNotebooks/nnUNet/nnUNet_results/Dataset666_aneurysm/nnUNetTrainer__nnUNetPlans__2d/fold_0/post\" -pp_pkl_file postprocessing.pkl"
      ],
      "metadata": {
        "id": "-2cA6BCliDd9",
        "outputId": "9847ecff-438f-43b5-83e8-4fe6b4480dbe",
        "colab": {
          "base_uri": "https://localhost:8080/"
        }
      },
      "execution_count": 42,
      "outputs": [
        {
          "output_type": "stream",
          "name": "stdout",
          "text": [
            "Traceback (most recent call last):\n",
            "  File \"/usr/local/bin/nnUNetv2_apply_postprocessing\", line 33, in <module>\n",
            "    sys.exit(load_entry_point('nnunetv2', 'console_scripts', 'nnUNetv2_apply_postprocessing')())\n",
            "  File \"/content/drive/MyDrive/ColabNotebooks/nnUNet/nnunetv2/postprocessing/remove_connected_components.py\", line 332, in entry_point_apply_postprocessing\n",
            "    pp_fns, pp_fn_kwargs = load_pickle(args.pp_pkl_file)\n",
            "  File \"/usr/local/lib/python3.10/dist-packages/batchgenerators/utilities/file_and_folder_operations.py\", line 57, in load_pickle\n",
            "    with open(file, mode) as f:\n",
            "FileNotFoundError: [Errno 2] No such file or directory: 'postprocessing.pkl'\n"
          ]
        }
      ]
    },
    {
      "cell_type": "code",
      "source": [
        "import numpy as np\n",
        "import nibabel as nib\n",
        "import matplotlib.pyplot as plt\n",
        "\n",
        "input_path = \"/content/drive/MyDrive/ColabNotebooks/nnUNet/nnUNet_results/Dataset666_aneurysm/nnUNetTrainer__nnUNetPlans__2d/fold_0/predTs\"\n",
        "input_filename = os.path.join(input_path,'sub_013.nii.gz')\n",
        "image_obj = nib.load(input_filename)\n",
        "# Extract data as numpy ndarray\n",
        "image_data = image_obj.get_fdata()\n",
        "# Get the image shape\n",
        "height, width, depth = image_data.shape\n",
        "# print(f\"The image object has the following dimensions: height: {height}, width:{width}, depth:{depth}\")\n",
        "# Select random layer number\n",
        "maxval = depth\n",
        "i = np.random.randint(0, maxval)\n",
        "# Define a channel to look at\n",
        "print(f\"Plotting Layer {i} of Image\")\n",
        "plt.imshow(image_data[:, :, i], cmap='gray')\n",
        "plt.axis('off');"
      ],
      "metadata": {
        "colab": {
          "base_uri": "https://localhost:8080/",
          "height": 423
        },
        "id": "-rj_TAckRwcK",
        "outputId": "e1c94388-274f-4bcf-97e1-14f964a5e2a1"
      },
      "execution_count": 49,
      "outputs": [
        {
          "output_type": "stream",
          "name": "stdout",
          "text": [
            "Plotting Layer 28 of Image\n"
          ]
        },
        {
          "output_type": "display_data",
          "data": {
            "text/plain": [
              "<Figure size 640x480 with 1 Axes>"
            ],
            "image/png": "[encoded data removed]"
          },
          "metadata": {}
        }
      ]
    }
  ]
}