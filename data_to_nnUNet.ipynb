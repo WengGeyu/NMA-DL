{
  "nbformat": 4,
  "nbformat_minor": 0,
  "metadata": {
    "colab": {
      "provenance": [],
      "gpuType": "T4",
      "authorship_tag": "ABX9TyPMD8bhAoErAZRDtqe+96zQ",
      "include_colab_link": true
    },
    "kernelspec": {
      "name": "python3",
      "display_name": "Python 3"
    },
    "language_info": {
      "name": "python"
    },
    "accelerator": "GPU"
  },
  "cells": [
    {
      "cell_type": "markdown",
      "metadata": {
        "id": "view-in-github",
        "colab_type": "text"
      },
      "source": [
        "<a href=\"https://colab.research.google.com/github/WengGeyu/NMA-DL/blob/main/data_to_nnUNet.ipynb\" target=\"_parent\"><img src=\"https://colab.research.google.com/assets/colab-badge.svg\" alt=\"Open In Colab\"/></a>"
      ]
    },
    {
      "cell_type": "code",
      "source": [
        "from google.colab import drive\n",
        "drive.mount('/content/drive')"
      ],
      "metadata": {
        "id": "S4lSDtdNXfNv",
        "outputId": "e8a6dc07-c7a4-44fe-8be3-eec724053440",
        "colab": {
          "base_uri": "https://localhost:8080/"
        }
      },
      "execution_count": 1,
      "outputs": [
        {
          "output_type": "stream",
          "name": "stdout",
          "text": [
            "Mounted at /content/drive\n"
          ]
        }
      ]
    },
    {
      "cell_type": "code",
      "execution_count": null,
      "metadata": {
        "id": "zD7Y-xg9whWW"
      },
      "outputs": [],
      "source": [
        "import os\n",
        "os.chdir('/content/drive/MyDrive/ColabNotebooks')\n",
        "#!git clone https://github.com/MIC-DKFZ/nnUNet.git\n",
        "%cd nnUNet\n",
        "!pip install -e .\n",
        "!pip install --upgrade git+https://github.com/FabianIsensee/hiddenlayer.git"
      ]
    },
    {
      "cell_type": "code",
      "source": [
        "from batchgenerators.utilities.file_and_folder_operations import *\n",
        "import shutil\n",
        "from nnunetv2.dataset_conversion.generate_dataset_json import generate_dataset_json\n",
        "from nnunetv2.paths import nnUNet_raw\n",
        "\n",
        "def convert_aneurysm(kits_base_dir: str, nnunet_dataset_id: int = 666):\n",
        "    task_name = \"aneurysm\"\n",
        "\n",
        "    foldername = \"Dataset%03.0d_%s\" % (nnunet_dataset_id, task_name)\n",
        "\n",
        "    # setting up nnU-Net folders\n",
        "    out_base = join('/content/drive/MyDrive/ColabNotebooks/nnUNet/nnUNet_raw', foldername)\n",
        "    imagestr = join(out_base, \"imagesTr\")\n",
        "    labelstr = join(out_base, \"labelsTr\")\n",
        "    maybe_mkdir_p(imagestr)\n",
        "    maybe_mkdir_p(labelstr)\n",
        "\n",
        "    cases = subdirs(kits_base_dir, prefix='sub_', join=False)\n",
        "    for tr in cases:\n",
        "        shutil.copy(join(kits_base_dir, tr, 'angio.nii.gz'), join(imagestr, f'{tr}_0000.nii.gz'))\n",
        "        shutil.copy(join(kits_base_dir, tr, 'Lesion_1_mask.nii.gz'), join(labelstr, f'{tr}.nii.gz'))\n",
        "\n",
        "    generate_dataset_json(out_base, {0: \"TOF\"},\n",
        "                          labels={\n",
        "                              \"background\": 0,\n",
        "                              \"aneurysm\": 1\n",
        "                          },\n",
        "                          num_training_cases=len(cases), file_ending='.nii.gz')\n",
        "\n",
        "convert_aneurysm('/content/drive/MyDrive/ColabNotebooks/data', 666)"
      ],
      "metadata": {
        "id": "tDC9mlrCd2jK"
      },
      "execution_count": null,
      "outputs": []
    },
    {
      "cell_type": "code",
      "source": [
        "! nnUNet_raw=\"/content/drive/MyDrive/ColabNotebooks/nnUNet/nnUNet_raw\" \\\n",
        "nnUNet_preprocessed=\"/content/drive/MyDrive/ColabNotebooks/nnUNet/nnUNet_preprocessed\" \\\n",
        "nnUNet_results=\"/content/drive/MyDrive/ColabNotebooks/nnUNet/nnUNet_results\" \\\n",
        "nnUNetv2_plan_and_preprocess -d 666 --verify_dataset_integrity"
      ],
      "metadata": {
        "id": "p_YWLuHWXk1c"
      },
      "execution_count": null,
      "outputs": []
    },
    {
      "cell_type": "markdown",
      "source": [
        "Training"
      ],
      "metadata": {
        "id": "74QNMCflwJS6"
      }
    },
    {
      "cell_type": "code",
      "source": [
        "! nnUNet_raw=\"/content/drive/MyDrive/ColabNotebooks/nnUNet/nnUNet_raw\" \\\n",
        "nnUNet_preprocessed=\"/content/drive/MyDrive/ColabNotebooks/nnUNet/nnUNet_preprocessed\" \\\n",
        "nnUNet_results=\"/content/drive/MyDrive/ColabNotebooks/nnUNet/nnUNet_results\" \\\n",
        "nnUNetv2_train 666 3d_lowres 0 -tr nnUNetTrainer_10epochs --c"
      ],
      "metadata": {
        "id": "vt7Kc3_QqBxx",
        "outputId": "237ff3e4-6fda-4128-9418-c787c80ad10b",
        "colab": {
          "base_uri": "https://localhost:8080/"
        }
      },
      "execution_count": 25,
      "outputs": [
        {
          "output_type": "stream",
          "name": "stdout",
          "text": [
            "Using device: cuda:0\n",
            "\n",
            "#######################################################################\n",
            "Please cite the following paper when using nnU-Net:\n",
            "Isensee, F., Jaeger, P. F., Kohl, S. A., Petersen, J., & Maier-Hein, K. H. (2021). nnU-Net: a self-configuring method for deep learning-based biomedical image segmentation. Nature methods, 18(2), 203-211.\n",
            "#######################################################################\n",
            "\n",
            "WARNING: Cannot continue training because there seems to be no checkpoint available to continue from. Starting a new training...\n",
            "\n",
            "This is the configuration used by this training:\n",
            "Configuration name: 3d_lowres\n",
            " {'data_identifier': 'nnUNetPlans_3d_lowres', 'preprocessor_name': 'DefaultPreprocessor', 'batch_size': 2, 'patch_size': [56, 224, 192], 'median_image_size_in_voxels': [93, 335, 294], 'spacing': [0.8319214816658427, 0.6203981293351043, 0.6203981293351043], 'normalization_schemes': ['ZScoreNormalization'], 'use_mask_for_norm': [False], 'UNet_class_name': 'PlainConvUNet', 'UNet_base_num_features': 32, 'n_conv_per_stage_encoder': [2, 2, 2, 2, 2, 2], 'n_conv_per_stage_decoder': [2, 2, 2, 2, 2], 'num_pool_per_axis': [3, 5, 5], 'pool_op_kernel_sizes': [[1, 1, 1], [2, 2, 2], [2, 2, 2], [2, 2, 2], [1, 2, 2], [1, 2, 2]], 'conv_kernel_sizes': [[3, 3, 3], [3, 3, 3], [3, 3, 3], [3, 3, 3], [3, 3, 3], [3, 3, 3]], 'unet_max_num_features': 320, 'resampling_fn_data': 'resample_data_or_seg_to_shape', 'resampling_fn_seg': 'resample_data_or_seg_to_shape', 'resampling_fn_data_kwargs': {'is_seg': False, 'order': 3, 'order_z': 0, 'force_separate_z': None}, 'resampling_fn_seg_kwargs': {'is_seg': True, 'order': 1, 'order_z': 0, 'force_separate_z': None}, 'resampling_fn_probabilities': 'resample_data_or_seg_to_shape', 'resampling_fn_probabilities_kwargs': {'is_seg': False, 'order': 1, 'order_z': 0, 'force_separate_z': None}, 'batch_dice': False, 'next_stage': '3d_cascade_fullres'} \n",
            "\n",
            "These are the global plan.json settings:\n",
            " {'dataset_name': 'Dataset666_aneurysm', 'plans_name': 'nnUNetPlans', 'original_median_spacing_after_transp': [0.5499981045722961, 0.41015625, 0.41015625], 'original_median_shape_after_transp': [140, 506, 444], 'image_reader_writer': 'SimpleITKIO', 'transpose_forward': [0, 1, 2], 'transpose_backward': [0, 1, 2], 'experiment_planner_used': 'ExperimentPlanner', 'label_manager': 'LabelManager', 'foreground_intensity_properties_per_channel': {'0': {'max': 1785.74658203125, 'mean': 601.4241943359375, 'median': 502.01708984375, 'min': 34.27594757080078, 'percentile_00_5': 78.83467864990234, 'percentile_99_5': 1771.4031982421875, 'std': 417.2281188964844}}} \n",
            "\n",
            "2023-07-24 14:41:06.795453: unpacking dataset...\n",
            "2023-07-24 14:41:07.109979: unpacking done...\n",
            "2023-07-24 14:41:07.112472: do_dummy_2d_data_aug: True\n",
            "2023-07-24 14:41:07.117033: Using splits from existing split file: /content/drive/MyDrive/ColabNotebooks/nnUNet/nnUNet_preprocessed/Dataset666_aneurysm/splits_final.json\n",
            "2023-07-24 14:41:07.120028: The split file contains 5 splits.\n",
            "2023-07-24 14:41:07.121771: Desired fold for training: 0\n",
            "2023-07-24 14:41:07.124084: This split has 4 training and 1 validation cases.\n",
            "2023-07-24 14:41:07.182047: Unable to plot network architecture:\n",
            "2023-07-24 14:41:07.183974: No module named 'hiddenlayer'\n",
            "2023-07-24 14:41:07.197696: \n",
            "2023-07-24 14:41:07.199449: Epoch 0\n",
            "2023-07-24 14:41:07.201926: Current learning rate: 0.01\n",
            "using pin_memory on device 0\n",
            "Traceback (most recent call last):\n",
            "  File \"/usr/local/bin/nnUNetv2_train\", line 33, in <module>\n",
            "    sys.exit(load_entry_point('nnunetv2', 'console_scripts', 'nnUNetv2_train')())\n",
            "  File \"/content/drive/MyDrive/ColabNotebooks/nnUNet/nnunetv2/run/run_training.py\", line 253, in run_training_entry\n",
            "    run_training(args.dataset_name_or_id, args.configuration, args.fold, args.tr, args.p, args.pretrained_weights,\n",
            "  File \"/content/drive/MyDrive/ColabNotebooks/nnUNet/nnunetv2/run/run_training.py\", line 196, in run_training\n",
            "    nnunet_trainer.run_training()\n",
            "  File \"/content/drive/MyDrive/ColabNotebooks/nnUNet/nnunetv2/training/nnUNetTrainer/nnUNetTrainer.py\", line 1229, in run_training\n",
            "    train_outputs.append(self.train_step(next(self.dataloader_train)))\n",
            "  File \"/usr/local/lib/python3.10/dist-packages/batchgenerators/dataloading/nondet_multi_threaded_augmenter.py\", line 196, in __next__\n",
            "    item = self.__get_next_item()\n",
            "  File \"/usr/local/lib/python3.10/dist-packages/batchgenerators/dataloading/nondet_multi_threaded_augmenter.py\", line 188, in __get_next_item\n",
            "    sleep(self.wait_time)\n",
            "KeyboardInterrupt\n",
            "^C\n"
          ]
        }
      ]
    },
    {
      "cell_type": "code",
      "source": [
        "! nnUNet_raw=\"/content/drive/MyDrive/ColabNotebooks/nnUNet/nnUNet_raw\" \\\n",
        "nnUNet_preprocessed=\"/content/drive/MyDrive/ColabNotebooks/nnUNet/nnUNet_preprocessed\" \\\n",
        "nnUNet_results=\"/content/drive/MyDrive/ColabNotebooks/nnUNet/nnUNet_results\" \\\n",
        "nnUNetv2_predict -i INPUT -o OUTPUT -d 666 -c 2d -device cuda -f 0\n",
        "# -chk checkpoint_best.pth"
      ],
      "metadata": {
        "id": "lC3Wd3dlK4OJ",
        "outputId": "1ed5e1ba-7d11-494c-8989-45859bcecef6",
        "colab": {
          "base_uri": "https://localhost:8080/"
        }
      },
      "execution_count": 24,
      "outputs": [
        {
          "output_type": "stream",
          "name": "stdout",
          "text": [
            "\n",
            "#######################################################################\n",
            "Please cite the following paper when using nnU-Net:\n",
            "Isensee, F., Jaeger, P. F., Kohl, S. A., Petersen, J., & Maier-Hein, K. H. (2021). nnU-Net: a self-configuring method for deep learning-based biomedical image segmentation. Nature methods, 18(2), 203-211.\n",
            "#######################################################################\n",
            "\n",
            "usage: nnUNetv2_predict\n",
            "       [-h]\n",
            "       -i\n",
            "       I\n",
            "       -o\n",
            "       O\n",
            "       -d\n",
            "       D\n",
            "       [-p P]\n",
            "       [-tr TR]\n",
            "       -c\n",
            "       C\n",
            "       [-f F [F ...]]\n",
            "       [-step_size STEP_SIZE]\n",
            "       [--disable_tta]\n",
            "       [--verbose]\n",
            "       [--save_probabilities]\n",
            "       [--continue_prediction]\n",
            "       [-chk CHK]\n",
            "       [-npp NPP]\n",
            "       [-nps NPS]\n",
            "       [-prev_stage_predictions PREV_STAGE_PREDICTIONS]\n",
            "       [-num_parts NUM_PARTS]\n",
            "       [-part_id PART_ID]\n",
            "       [-device DEVICE]\n",
            "nnUNetv2_predict: error: the following arguments are required: -i, -o, -c\n"
          ]
        }
      ]
    },
    {
      "cell_type": "code",
      "source": [
        "import numpy as np\n",
        "import nibabel as nib\n",
        "import matplotlib.pyplot as plt\n",
        "\n",
        "input_path = \"/content/drive/MyDrive/ColabNotebooks/nnUNet/nnUNet_results/Dataset666_aneurysm/nnUNetTrainer__nnUNetPlans__2d/fold_0/validation\"\n",
        "input_filename = os.path.join(input_path,'sub_013.nii.gz')\n",
        "image_obj = nib.load(input_filename)\n",
        "# Extract data as numpy ndarray\n",
        "image_data = image_obj.get_fdata()\n",
        "# Get the image shape\n",
        "height, width, depth = image_data.shape\n",
        "# print(f\"The image object has the following dimensions: height: {height}, width:{width}, depth:{depth}\")\n",
        "# Select random layer number\n",
        "maxval = depth\n",
        "i = np.random.randint(0, maxval)\n",
        "# Define a channel to look at\n",
        "print(f\"Plotting Layer {i} of Image\")\n",
        "plt.imshow(image_data[:, :, i], cmap='gray')\n",
        "plt.axis('off');"
      ],
      "metadata": {
        "id": "-rj_TAckRwcK"
      },
      "execution_count": null,
      "outputs": []
    }
  ]
}