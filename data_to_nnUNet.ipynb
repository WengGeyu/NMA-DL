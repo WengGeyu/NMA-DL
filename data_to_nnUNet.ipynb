{
  "nbformat": 4,
  "nbformat_minor": 0,
  "metadata": {
    "colab": {
      "provenance": [],
      "gpuType": "T4",
      "authorship_tag": "ABX9TyPpogQLurpe+Vn5zoMwQ8yv",
      "include_colab_link": true
    },
    "kernelspec": {
      "name": "python3",
      "display_name": "Python 3"
    },
    "language_info": {
      "name": "python"
    },
    "accelerator": "GPU"
  },
  "cells": [
    {
      "cell_type": "markdown",
      "metadata": {
        "id": "view-in-github",
        "colab_type": "text"
      },
      "source": [
        "<a href=\"https://colab.research.google.com/github/WengGeyu/NMA-DL/blob/main/data_to_nnUNet.ipynb\" target=\"_parent\"><img src=\"https://colab.research.google.com/assets/colab-badge.svg\" alt=\"Open In Colab\"/></a>"
      ]
    },
    {
      "cell_type": "code",
      "source": [
        "from google.colab import drive\n",
        "drive.mount('/content/drive')"
      ],
      "metadata": {
        "id": "S4lSDtdNXfNv",
        "outputId": "7e3fb098-a350-4554-e627-b2751666238e",
        "colab": {
          "base_uri": "https://localhost:8080/"
        }
      },
      "execution_count": 38,
      "outputs": [
        {
          "output_type": "stream",
          "name": "stdout",
          "text": [
            "Drive already mounted at /content/drive; to attempt to forcibly remount, call drive.mount(\"/content/drive\", force_remount=True).\n"
          ]
        }
      ]
    },
    {
      "cell_type": "code",
      "execution_count": 39,
      "metadata": {
        "id": "zD7Y-xg9whWW",
        "colab": {
          "base_uri": "https://localhost:8080/",
          "height": 1000
        },
        "outputId": "3a0314af-7a46-47d2-981d-d976e5c843c3"
      },
      "outputs": [
        {
          "output_type": "stream",
          "name": "stdout",
          "text": [
            "/content/drive/MyDrive/ColabNotebooks/nnUNet\n",
            "Obtaining file:///content/drive/MyDrive/ColabNotebooks/nnUNet\n",
            "  Preparing metadata (setup.py) ... \u001b[?25l\u001b[?25hdone\n",
            "Requirement already satisfied: torch>=2.0.0 in /usr/local/lib/python3.10/dist-packages (from nnunetv2==2.1.1) (2.0.1+cu118)\n",
            "Requirement already satisfied: acvl-utils>=0.2 in /usr/local/lib/python3.10/dist-packages (from nnunetv2==2.1.1) (0.2)\n",
            "Requirement already satisfied: dynamic-network-architectures>=0.2 in /usr/local/lib/python3.10/dist-packages (from nnunetv2==2.1.1) (0.2)\n",
            "Requirement already satisfied: tqdm in /usr/local/lib/python3.10/dist-packages (from nnunetv2==2.1.1) (4.65.0)\n",
            "Requirement already satisfied: dicom2nifti in /usr/local/lib/python3.10/dist-packages (from nnunetv2==2.1.1) (2.4.8)\n",
            "Requirement already satisfied: scikit-image>=0.14 in /usr/local/lib/python3.10/dist-packages (from nnunetv2==2.1.1) (0.19.3)\n",
            "Requirement already satisfied: scipy in /usr/local/lib/python3.10/dist-packages (from nnunetv2==2.1.1) (1.10.1)\n",
            "Requirement already satisfied: batchgenerators>=0.25 in /usr/local/lib/python3.10/dist-packages (from nnunetv2==2.1.1) (0.25)\n",
            "Requirement already satisfied: numpy in /usr/local/lib/python3.10/dist-packages (from nnunetv2==2.1.1) (1.22.4)\n",
            "Requirement already satisfied: scikit-learn in /usr/local/lib/python3.10/dist-packages (from nnunetv2==2.1.1) (1.2.2)\n",
            "Requirement already satisfied: SimpleITK>=2.2.1 in /usr/local/lib/python3.10/dist-packages (from nnunetv2==2.1.1) (2.2.1)\n",
            "Requirement already satisfied: pandas in /usr/local/lib/python3.10/dist-packages (from nnunetv2==2.1.1) (1.5.3)\n",
            "Requirement already satisfied: graphviz in /usr/local/lib/python3.10/dist-packages (from nnunetv2==2.1.1) (0.20.1)\n",
            "Requirement already satisfied: tifffile in /usr/local/lib/python3.10/dist-packages (from nnunetv2==2.1.1) (2023.7.10)\n",
            "Requirement already satisfied: requests in /usr/local/lib/python3.10/dist-packages (from nnunetv2==2.1.1) (2.27.1)\n",
            "Requirement already satisfied: nibabel in /usr/local/lib/python3.10/dist-packages (from nnunetv2==2.1.1) (3.0.2)\n",
            "Requirement already satisfied: matplotlib in /usr/local/lib/python3.10/dist-packages (from nnunetv2==2.1.1) (3.7.1)\n",
            "Requirement already satisfied: seaborn in /usr/local/lib/python3.10/dist-packages (from nnunetv2==2.1.1) (0.12.2)\n",
            "Requirement already satisfied: imagecodecs in /usr/local/lib/python3.10/dist-packages (from nnunetv2==2.1.1) (2023.7.10)\n",
            "Requirement already satisfied: yacs in /usr/local/lib/python3.10/dist-packages (from nnunetv2==2.1.1) (0.1.8)\n",
            "Requirement already satisfied: connected-components-3d in /usr/local/lib/python3.10/dist-packages (from acvl-utils>=0.2->nnunetv2==2.1.1) (3.12.1)\n",
            "Requirement already satisfied: pillow>=7.1.2 in /usr/local/lib/python3.10/dist-packages (from batchgenerators>=0.25->nnunetv2==2.1.1) (8.4.0)\n",
            "Requirement already satisfied: future in /usr/local/lib/python3.10/dist-packages (from batchgenerators>=0.25->nnunetv2==2.1.1) (0.18.3)\n",
            "Requirement already satisfied: unittest2 in /usr/local/lib/python3.10/dist-packages (from batchgenerators>=0.25->nnunetv2==2.1.1) (1.1.0)\n",
            "Requirement already satisfied: threadpoolctl in /usr/local/lib/python3.10/dist-packages (from batchgenerators>=0.25->nnunetv2==2.1.1) (3.1.0)\n",
            "Requirement already satisfied: networkx>=2.2 in /usr/local/lib/python3.10/dist-packages (from scikit-image>=0.14->nnunetv2==2.1.1) (3.1)\n",
            "Requirement already satisfied: imageio>=2.4.1 in /usr/local/lib/python3.10/dist-packages (from scikit-image>=0.14->nnunetv2==2.1.1) (2.25.1)\n",
            "Requirement already satisfied: PyWavelets>=1.1.1 in /usr/local/lib/python3.10/dist-packages (from scikit-image>=0.14->nnunetv2==2.1.1) (1.4.1)\n",
            "Requirement already satisfied: packaging>=20.0 in /usr/local/lib/python3.10/dist-packages (from scikit-image>=0.14->nnunetv2==2.1.1) (23.1)\n",
            "Requirement already satisfied: filelock in /usr/local/lib/python3.10/dist-packages (from torch>=2.0.0->nnunetv2==2.1.1) (3.12.2)\n",
            "Requirement already satisfied: typing-extensions in /usr/local/lib/python3.10/dist-packages (from torch>=2.0.0->nnunetv2==2.1.1) (4.7.1)\n",
            "Requirement already satisfied: sympy in /usr/local/lib/python3.10/dist-packages (from torch>=2.0.0->nnunetv2==2.1.1) (1.11.1)\n",
            "Requirement already satisfied: jinja2 in /usr/local/lib/python3.10/dist-packages (from torch>=2.0.0->nnunetv2==2.1.1) (3.1.2)\n",
            "Requirement already satisfied: triton==2.0.0 in /usr/local/lib/python3.10/dist-packages (from torch>=2.0.0->nnunetv2==2.1.1) (2.0.0)\n",
            "Requirement already satisfied: cmake in /usr/local/lib/python3.10/dist-packages (from triton==2.0.0->torch>=2.0.0->nnunetv2==2.1.1) (3.25.2)\n",
            "Requirement already satisfied: lit in /usr/local/lib/python3.10/dist-packages (from triton==2.0.0->torch>=2.0.0->nnunetv2==2.1.1) (16.0.6)\n",
            "Requirement already satisfied: pydicom>=2.2.0 in /usr/local/lib/python3.10/dist-packages (from dicom2nifti->nnunetv2==2.1.1) (2.4.1)\n",
            "Requirement already satisfied: python-gdcm in /usr/local/lib/python3.10/dist-packages (from dicom2nifti->nnunetv2==2.1.1) (3.0.22)\n",
            "Requirement already satisfied: contourpy>=1.0.1 in /usr/local/lib/python3.10/dist-packages (from matplotlib->nnunetv2==2.1.1) (1.1.0)\n",
            "Requirement already satisfied: cycler>=0.10 in /usr/local/lib/python3.10/dist-packages (from matplotlib->nnunetv2==2.1.1) (0.11.0)\n",
            "Requirement already satisfied: fonttools>=4.22.0 in /usr/local/lib/python3.10/dist-packages (from matplotlib->nnunetv2==2.1.1) (4.41.0)\n",
            "Requirement already satisfied: kiwisolver>=1.0.1 in /usr/local/lib/python3.10/dist-packages (from matplotlib->nnunetv2==2.1.1) (1.4.4)\n",
            "Requirement already satisfied: pyparsing>=2.3.1 in /usr/local/lib/python3.10/dist-packages (from matplotlib->nnunetv2==2.1.1) (3.1.0)\n",
            "Requirement already satisfied: python-dateutil>=2.7 in /usr/local/lib/python3.10/dist-packages (from matplotlib->nnunetv2==2.1.1) (2.8.2)\n",
            "Requirement already satisfied: pytz>=2020.1 in /usr/local/lib/python3.10/dist-packages (from pandas->nnunetv2==2.1.1) (2022.7.1)\n",
            "Requirement already satisfied: urllib3<1.27,>=1.21.1 in /usr/local/lib/python3.10/dist-packages (from requests->nnunetv2==2.1.1) (1.26.16)\n",
            "Requirement already satisfied: certifi>=2017.4.17 in /usr/local/lib/python3.10/dist-packages (from requests->nnunetv2==2.1.1) (2023.5.7)\n",
            "Requirement already satisfied: charset-normalizer~=2.0.0 in /usr/local/lib/python3.10/dist-packages (from requests->nnunetv2==2.1.1) (2.0.12)\n",
            "Requirement already satisfied: idna<4,>=2.5 in /usr/local/lib/python3.10/dist-packages (from requests->nnunetv2==2.1.1) (3.4)\n",
            "Requirement already satisfied: joblib>=1.1.1 in /usr/local/lib/python3.10/dist-packages (from scikit-learn->nnunetv2==2.1.1) (1.3.1)\n",
            "Requirement already satisfied: PyYAML in /usr/local/lib/python3.10/dist-packages (from yacs->nnunetv2==2.1.1) (6.0)\n",
            "Requirement already satisfied: six>=1.5 in /usr/local/lib/python3.10/dist-packages (from python-dateutil>=2.7->matplotlib->nnunetv2==2.1.1) (1.16.0)\n",
            "Requirement already satisfied: MarkupSafe>=2.0 in /usr/local/lib/python3.10/dist-packages (from jinja2->torch>=2.0.0->nnunetv2==2.1.1) (2.1.3)\n",
            "Requirement already satisfied: mpmath>=0.19 in /usr/local/lib/python3.10/dist-packages (from sympy->torch>=2.0.0->nnunetv2==2.1.1) (1.3.0)\n",
            "Collecting argparse (from unittest2->batchgenerators>=0.25->nnunetv2==2.1.1)\n",
            "  Using cached argparse-1.4.0-py2.py3-none-any.whl (23 kB)\n",
            "Requirement already satisfied: traceback2 in /usr/local/lib/python3.10/dist-packages (from unittest2->batchgenerators>=0.25->nnunetv2==2.1.1) (1.4.0)\n",
            "Requirement already satisfied: linecache2 in /usr/local/lib/python3.10/dist-packages (from traceback2->unittest2->batchgenerators>=0.25->nnunetv2==2.1.1) (1.0.0)\n",
            "Installing collected packages: argparse, nnunetv2\n",
            "  Attempting uninstall: nnunetv2\n",
            "    Found existing installation: nnunetv2 2.1.1\n",
            "    Uninstalling nnunetv2-2.1.1:\n",
            "      Successfully uninstalled nnunetv2-2.1.1\n",
            "  Running setup.py develop for nnunetv2\n",
            "Successfully installed argparse-1.4.0 nnunetv2-2.1.1\n"
          ]
        },
        {
          "output_type": "display_data",
          "data": {
            "application/vnd.colab-display-data+json": {
              "pip_warning": {
                "packages": [
                  "argparse"
                ]
              }
            }
          },
          "metadata": {}
        }
      ],
      "source": [
        "import os\n",
        "os.chdir('/content/drive/MyDrive/ColabNotebooks')\n",
        "#!git clone https://github.com/MIC-DKFZ/nnUNet.git\n",
        "%cd nnUNet\n",
        "!pip install -e ."
      ]
    },
    {
      "cell_type": "code",
      "source": [
        "from batchgenerators.utilities.file_and_folder_operations import *\n",
        "import shutil\n",
        "from nnunetv2.dataset_conversion.generate_dataset_json import generate_dataset_json\n",
        "from nnunetv2.paths import nnUNet_raw\n",
        "\n",
        "def convert_aneurysm(kits_base_dir: str, nnunet_dataset_id: int = 666):\n",
        "    task_name = \"aneurysm\"\n",
        "\n",
        "    foldername = \"Dataset%03.0d_%s\" % (nnunet_dataset_id, task_name)\n",
        "\n",
        "    # setting up nnU-Net folders\n",
        "    out_base = join('/content/drive/MyDrive/ColabNotebooks/nnUNet/nnUNet_raw', foldername)\n",
        "    imagestr = join(out_base, \"imagesTr\")\n",
        "    labelstr = join(out_base, \"labelsTr\")\n",
        "    maybe_mkdir_p(imagestr)\n",
        "    maybe_mkdir_p(labelstr)\n",
        "\n",
        "    cases = subdirs(kits_base_dir, prefix='sub_', join=False)\n",
        "    for tr in cases:\n",
        "        shutil.copy(join(kits_base_dir, tr, 'angio.nii.gz'), join(imagestr, f'{tr}_0000.nii.gz'))\n",
        "        shutil.copy(join(kits_base_dir, tr, 'Lesion_1_mask.nii.gz'), join(labelstr, f'{tr}.nii.gz'))\n",
        "\n",
        "    generate_dataset_json(out_base, {0: \"TOF\"},\n",
        "                          labels={\n",
        "                              \"background\": 0,\n",
        "                              \"aneurysm\": 1\n",
        "                          },\n",
        "                          num_training_cases=len(cases), file_ending='.nii.gz')\n",
        "\n",
        "convert_aneurysm('/content/drive/MyDrive/ColabNotebooks/data', 666)"
      ],
      "metadata": {
        "id": "tDC9mlrCd2jK"
      },
      "execution_count": 44,
      "outputs": []
    },
    {
      "cell_type": "code",
      "source": [
        "! nnUNet_raw=\"/content/drive/MyDrive/ColabNotebooks/nnUNet/nnUNet_raw\" \\\n",
        "nnUNet_preprocessed=\"/content/drive/MyDrive/ColabNotebooks/nnUNet/nnUNet_preprocessed\" \\\n",
        "nnUNet_results=\"/content/drive/MyDrive/ColabNotebooks/nnUNet/nnUNet_results\" \\\n",
        "nnUNetv2_plan_and_preprocess -d 666 --verify_dataset_integrity"
      ],
      "metadata": {
        "id": "p_YWLuHWXk1c",
        "outputId": "547090e2-7b19-434c-c7a3-92cdf5cfd263",
        "colab": {
          "base_uri": "https://localhost:8080/"
        }
      },
      "execution_count": 47,
      "outputs": [
        {
          "output_type": "stream",
          "name": "stdout",
          "text": [
            "Fingerprint extraction...\n",
            "Dataset666_aneurysm\n",
            "Using <class 'nnunetv2.imageio.simpleitk_reader_writer.SimpleITKIO'> as reader/writer\n",
            "\n",
            "####################\n",
            "verify_dataset_integrity Done. \n",
            "If you didn't see any error messages then your dataset is most likely OK!\n",
            "####################\n",
            "\n",
            "Experiment planning...\n",
            "Attempting to find 3d_lowres config. \n",
            "Current spacing: [0.56649805 0.42246094 0.42246094]. \n",
            "Current patch size: [ 56 224 192]. \n",
            "Current median shape: [135.9223301  491.74757282 431.55339806]\n",
            "Attempting to find 3d_lowres config. \n",
            "Current spacing: [0.58349299 0.43513477 0.43513477]. \n",
            "Current patch size: [ 56 224 192]. \n",
            "Current median shape: [131.96342728 477.42482798 418.98388161]\n",
            "Attempting to find 3d_lowres config. \n",
            "Current spacing: [0.60099778 0.44818881 0.44818881]. \n",
            "Current patch size: [ 56 224 192]. \n",
            "Current median shape: [128.11983231 463.51925046 406.78046758]\n",
            "Attempting to find 3d_lowres config. \n",
            "Current spacing: [0.61902771 0.46163447 0.46163447]. \n",
            "Current patch size: [ 56 224 192]. \n",
            "Current median shape: [124.38818671 450.01868977 394.9324928 ]\n",
            "Attempting to find 3d_lowres config. \n",
            "Current spacing: [0.63759854 0.47548351 0.47548351]. \n",
            "Current patch size: [ 56 224 192]. \n",
            "Current median shape: [120.76522981 436.91134929 383.42960466]\n",
            "Attempting to find 3d_lowres config. \n",
            "Current spacing: [0.6567265  0.48974801 0.48974801]. \n",
            "Current patch size: [ 56 224 192]. \n",
            "Current median shape: [117.24779594 424.18577601 372.2617521 ]\n",
            "Attempting to find 3d_lowres config. \n",
            "Current spacing: [0.67642829 0.50444045 0.50444045]. \n",
            "Current patch size: [ 56 224 192]. \n",
            "Current median shape: [113.83281159 411.8308505  361.41917679]\n",
            "Attempting to find 3d_lowres config. \n",
            "Current spacing: [0.69672114 0.51957367 0.51957367]. \n",
            "Current patch size: [ 56 224 192]. \n",
            "Current median shape: [110.5172928  399.83577718 350.89240465]\n",
            "Attempting to find 3d_lowres config. \n",
            "Current spacing: [0.71762278 0.53516088 0.53516088]. \n",
            "Current patch size: [ 56 224 192]. \n",
            "Current median shape: [107.29834253 388.19007493 340.67223753]\n",
            "Attempting to find 3d_lowres config. \n",
            "Current spacing: [0.73915146 0.5512157  0.5512157 ]. \n",
            "Current patch size: [ 56 224 192]. \n",
            "Current median shape: [104.17314809 376.8835679  330.74974517]\n",
            "Attempting to find 3d_lowres config. \n",
            "Current spacing: [0.76132601 0.56775217 0.56775217]. \n",
            "Current patch size: [ 56 224 192]. \n",
            "Current median shape: [101.13897872 365.9063766  321.11625745]\n",
            "Attempting to find 3d_lowres config. \n",
            "Current spacing: [0.78416579 0.58478474 0.58478474]. \n",
            "Current patch size: [ 56 224 192]. \n",
            "Current median shape: [ 98.19318323 355.24890932 311.76335675]\n",
            "Attempting to find 3d_lowres config. \n",
            "Current spacing: [0.80769076 0.60232828 0.60232828]. \n",
            "Current patch size: [ 56 224 192]. \n",
            "Current median shape: [ 95.3331876  344.90185371 302.68287063]\n",
            "Attempting to find 3d_lowres config. \n",
            "Current spacing: [0.83192148 0.62039813 0.62039813]. \n",
            "Current patch size: [ 56 224 192]. \n",
            "Current median shape: [ 92.55649281 334.85616865 293.86686469]\n",
            "2D U-Net configuration:\n",
            "{'data_identifier': 'nnUNetPlans_2d', 'preprocessor_name': 'DefaultPreprocessor', 'batch_size': 14, 'patch_size': array([512, 448]), 'median_image_size_in_voxels': array([506.5, 444.5]), 'spacing': array([0.41015625, 0.41015625]), 'normalization_schemes': ['ZScoreNormalization'], 'use_mask_for_norm': [False], 'UNet_class_name': 'PlainConvUNet', 'UNet_base_num_features': 32, 'n_conv_per_stage_encoder': (2, 2, 2, 2, 2, 2, 2), 'n_conv_per_stage_decoder': (2, 2, 2, 2, 2, 2), 'num_pool_per_axis': [6, 6], 'pool_op_kernel_sizes': [[1, 1], [2, 2], [2, 2], [2, 2], [2, 2], [2, 2], [2, 2]], 'conv_kernel_sizes': [[3, 3], [3, 3], [3, 3], [3, 3], [3, 3], [3, 3], [3, 3]], 'unet_max_num_features': 512, 'resampling_fn_data': 'resample_data_or_seg_to_shape', 'resampling_fn_seg': 'resample_data_or_seg_to_shape', 'resampling_fn_data_kwargs': {'is_seg': False, 'order': 3, 'order_z': 0, 'force_separate_z': None}, 'resampling_fn_seg_kwargs': {'is_seg': True, 'order': 1, 'order_z': 0, 'force_separate_z': None}, 'resampling_fn_probabilities': 'resample_data_or_seg_to_shape', 'resampling_fn_probabilities_kwargs': {'is_seg': False, 'order': 1, 'order_z': 0, 'force_separate_z': None}, 'batch_dice': True}\n",
            "\n",
            "Using <class 'nnunetv2.imageio.simpleitk_reader_writer.SimpleITKIO'> as reader/writer\n",
            "3D lowres U-Net configuration:\n",
            "{'data_identifier': 'nnUNetPlans_3d_lowres', 'preprocessor_name': 'DefaultPreprocessor', 'batch_size': 2, 'patch_size': array([ 56, 224, 192]), 'median_image_size_in_voxels': [93, 335, 294], 'spacing': array([0.83192148, 0.62039813, 0.62039813]), 'normalization_schemes': ['ZScoreNormalization'], 'use_mask_for_norm': [False], 'UNet_class_name': 'PlainConvUNet', 'UNet_base_num_features': 32, 'n_conv_per_stage_encoder': (2, 2, 2, 2, 2, 2), 'n_conv_per_stage_decoder': (2, 2, 2, 2, 2), 'num_pool_per_axis': [3, 5, 5], 'pool_op_kernel_sizes': [[1, 1, 1], [2, 2, 2], [2, 2, 2], [2, 2, 2], [1, 2, 2], [1, 2, 2]], 'conv_kernel_sizes': [[3, 3, 3], [3, 3, 3], [3, 3, 3], [3, 3, 3], [3, 3, 3], [3, 3, 3]], 'unet_max_num_features': 320, 'resampling_fn_data': 'resample_data_or_seg_to_shape', 'resampling_fn_seg': 'resample_data_or_seg_to_shape', 'resampling_fn_data_kwargs': {'is_seg': False, 'order': 3, 'order_z': 0, 'force_separate_z': None}, 'resampling_fn_seg_kwargs': {'is_seg': True, 'order': 1, 'order_z': 0, 'force_separate_z': None}, 'resampling_fn_probabilities': 'resample_data_or_seg_to_shape', 'resampling_fn_probabilities_kwargs': {'is_seg': False, 'order': 1, 'order_z': 0, 'force_separate_z': None}, 'batch_dice': False, 'next_stage': '3d_cascade_fullres'}\n",
            "\n",
            "3D fullres U-Net configuration:\n",
            "{'data_identifier': 'nnUNetPlans_3d_fullres', 'preprocessor_name': 'DefaultPreprocessor', 'batch_size': 2, 'patch_size': array([ 56, 224, 192]), 'median_image_size_in_voxels': array([140. , 506.5, 444.5]), 'spacing': array([0.5499981 , 0.41015625, 0.41015625]), 'normalization_schemes': ['ZScoreNormalization'], 'use_mask_for_norm': [False], 'UNet_class_name': 'PlainConvUNet', 'UNet_base_num_features': 32, 'n_conv_per_stage_encoder': (2, 2, 2, 2, 2, 2), 'n_conv_per_stage_decoder': (2, 2, 2, 2, 2), 'num_pool_per_axis': [3, 5, 5], 'pool_op_kernel_sizes': [[1, 1, 1], [2, 2, 2], [2, 2, 2], [2, 2, 2], [1, 2, 2], [1, 2, 2]], 'conv_kernel_sizes': [[3, 3, 3], [3, 3, 3], [3, 3, 3], [3, 3, 3], [3, 3, 3], [3, 3, 3]], 'unet_max_num_features': 320, 'resampling_fn_data': 'resample_data_or_seg_to_shape', 'resampling_fn_seg': 'resample_data_or_seg_to_shape', 'resampling_fn_data_kwargs': {'is_seg': False, 'order': 3, 'order_z': 0, 'force_separate_z': None}, 'resampling_fn_seg_kwargs': {'is_seg': True, 'order': 1, 'order_z': 0, 'force_separate_z': None}, 'resampling_fn_probabilities': 'resample_data_or_seg_to_shape', 'resampling_fn_probabilities_kwargs': {'is_seg': False, 'order': 1, 'order_z': 0, 'force_separate_z': None}, 'batch_dice': True}\n",
            "\n",
            "Plans were saved to /content/drive/MyDrive/ColabNotebooks/nnUNet/nnUNet_preprocessed/Dataset666_aneurysm/nnUNetPlans.json\n",
            "Preprocessing...\n",
            "Preprocessing dataset Dataset666_aneurysm\n",
            "Configuration: 2d...\n",
            "100% 5/5 [01:54<00:00, 22.97s/it]\n",
            "Configuration: 3d_fullres...\n",
            "100% 5/5 [02:15<00:00, 27.20s/it]\n",
            "Configuration: 3d_lowres...\n",
            "100% 5/5 [01:38<00:00, 19.80s/it]\n"
          ]
        }
      ]
    },
    {
      "cell_type": "code",
      "source": [
        "! nnUNet_raw=\"/content/drive/MyDrive/ColabNotebooks/nnUNet/nnUNet_raw\" \\\n",
        "nnUNet_preprocessed=\"/content/drive/MyDrive/ColabNotebooks/nnUNet/nnUNet_preprocessed\" \\\n",
        "nnUNet_results=\"/content/drive/MyDrive/ColabNotebooks/nnUNet/nnUNet_results\" \\\n",
        "nnUNetv2_train 666 2d 0 -device cpu"
      ],
      "metadata": {
        "id": "vt7Kc3_QqBxx",
        "colab": {
          "base_uri": "https://localhost:8080/"
        },
        "outputId": "b51a0867-17ce-480d-b29b-681cf8ff6ba4"
      },
      "execution_count": null,
      "outputs": [
        {
          "output_type": "stream",
          "name": "stdout",
          "text": [
            "Using device: cpu\n",
            "\n",
            "#######################################################################\n",
            "Please cite the following paper when using nnU-Net:\n",
            "Isensee, F., Jaeger, P. F., Kohl, S. A., Petersen, J., & Maier-Hein, K. H. (2021). nnU-Net: a self-configuring method for deep learning-based biomedical image segmentation. Nature methods, 18(2), 203-211.\n",
            "#######################################################################\n",
            "\n",
            "\n",
            "This is the configuration used by this training:\n",
            "Configuration name: 2d\n",
            " {'data_identifier': 'nnUNetPlans_2d', 'preprocessor_name': 'DefaultPreprocessor', 'batch_size': 14, 'patch_size': [512, 448], 'median_image_size_in_voxels': [506.5, 444.5], 'spacing': [0.41015625, 0.41015625], 'normalization_schemes': ['ZScoreNormalization'], 'use_mask_for_norm': [False], 'UNet_class_name': 'PlainConvUNet', 'UNet_base_num_features': 32, 'n_conv_per_stage_encoder': [2, 2, 2, 2, 2, 2, 2], 'n_conv_per_stage_decoder': [2, 2, 2, 2, 2, 2], 'num_pool_per_axis': [6, 6], 'pool_op_kernel_sizes': [[1, 1], [2, 2], [2, 2], [2, 2], [2, 2], [2, 2], [2, 2]], 'conv_kernel_sizes': [[3, 3], [3, 3], [3, 3], [3, 3], [3, 3], [3, 3], [3, 3]], 'unet_max_num_features': 512, 'resampling_fn_data': 'resample_data_or_seg_to_shape', 'resampling_fn_seg': 'resample_data_or_seg_to_shape', 'resampling_fn_data_kwargs': {'is_seg': False, 'order': 3, 'order_z': 0, 'force_separate_z': None}, 'resampling_fn_seg_kwargs': {'is_seg': True, 'order': 1, 'order_z': 0, 'force_separate_z': None}, 'resampling_fn_probabilities': 'resample_data_or_seg_to_shape', 'resampling_fn_probabilities_kwargs': {'is_seg': False, 'order': 1, 'order_z': 0, 'force_separate_z': None}, 'batch_dice': True} \n",
            "\n",
            "These are the global plan.json settings:\n",
            " {'dataset_name': 'Dataset666_aneurysm', 'plans_name': 'nnUNetPlans', 'original_median_spacing_after_transp': [0.5499981045722961, 0.41015625, 0.41015625], 'original_median_shape_after_transp': [140, 506, 444], 'image_reader_writer': 'SimpleITKIO', 'transpose_forward': [0, 1, 2], 'transpose_backward': [0, 1, 2], 'experiment_planner_used': 'ExperimentPlanner', 'label_manager': 'LabelManager', 'foreground_intensity_properties_per_channel': {'0': {'max': 1785.74658203125, 'mean': 601.4241943359375, 'median': 502.01708984375, 'min': 34.27594757080078, 'percentile_00_5': 78.83467864990234, 'percentile_99_5': 1771.4031982421875, 'std': 417.2281188964844}}} \n",
            "\n",
            "2023-07-20 17:09:30.756607: unpacking dataset...\n",
            "2023-07-20 17:09:38.568485: unpacking done...\n",
            "2023-07-20 17:09:38.576212: do_dummy_2d_data_aug: False\n",
            "2023-07-20 17:09:38.580618: Creating new 5-fold cross-validation split...\n",
            "2023-07-20 17:09:38.589767: Desired fold for training: 0\n",
            "2023-07-20 17:09:38.592513: This split has 4 training and 1 validation cases.\n",
            "2023-07-20 17:09:38.667042: Unable to plot network architecture:\n",
            "2023-07-20 17:09:38.669311: No module named 'hiddenlayer'\n",
            "2023-07-20 17:09:39.274336: \n",
            "2023-07-20 17:09:39.277053: Epoch 0\n",
            "2023-07-20 17:09:39.279948: Current learning rate: 0.01\n"
          ]
        }
      ]
    }
  ]
}